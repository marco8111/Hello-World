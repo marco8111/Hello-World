{
  "nbformat": 4,
  "nbformat_minor": 0,
  "metadata": {
    "colab": {
      "name": "Untitled1.ipynb",
      "provenance": [],
      "authorship_tag": "ABX9TyP6ecaRUjgUMwgwvZgz2fjT",
      "include_colab_link": true
    },
    "kernelspec": {
      "name": "python3",
      "display_name": "Python 3"
    },
    "language_info": {
      "name": "python"
    }
  },
  "cells": [
    {
      "cell_type": "markdown",
      "metadata": {
        "id": "view-in-github",
        "colab_type": "text"
      },
      "source": [
        "<a href=\"https://colab.research.google.com/github/marco8111/Hello-World/blob/main/Linear%20Regression.ipynb\" target=\"_parent\"><img src=\"https://colab.research.google.com/assets/colab-badge.svg\" alt=\"Open In Colab\"/></a>"
      ]
    },
    {
      "cell_type": "code",
      "metadata": {
        "id": "FEEWL1jOEKiZ"
      },
      "source": [
        "import numpy as np\n",
        "import matplotlib.pyplot as plt\n",
        "import pandas as pd\n",
        "from sklearn import datasets, linear_model\n",
        "from sklearn.metrics import mean_squared_error, r2_score\n",
        "\n",
        "\n",
        "filereader= pd.read_csv('PS4_GamesSales.csv', encoding='cp1252')\n",
        "\n",
        "#Setting up my data to use\n",
        "X = filereader.iloc[:,5].values.reshape(-1,1)\n",
        "Y = filereader.iloc[:,7].values.reshape(-1,1)\n",
        "\n",
        "#Creating linear regression object\n",
        "LRegression = LinearRegression()\n",
        "\n",
        "#train the model using my selected DATA\n",
        "LRegression.fit(X, Y)\n",
        "\n",
        "#Make predictions\n",
        "Ypredictions = LRegression.predict(X)\n",
        "\n",
        "\n",
        "#The Coeficients\n",
        "print(\"Coefficients: \\n\", LRegression.coef_)\n",
        "\n",
        "#The mean squared error\n",
        "print(\"Mean squared error %.2f\" % mean_squared_error(Y, Ypredictions))\n",
        "\n",
        "# The coefficient of determination: 1 is perfect prediction\n",
        "print('Coefficient of determination: %.2f'\n",
        "      % r2_score(Y, Ypredictions))\n",
        "\n",
        "\n",
        "# Plot outputs\n",
        "plt.scatter(X, Y,  color='blue')\n",
        "plt.plot(X, Ypredictions, color='red', linewidth=3)\n",
        "\n",
        "plt.xticks(())\n",
        "plt.yticks(())\n",
        "\n",
        "plt.show()"
      ],
      "execution_count": null,
      "outputs": []
    }
  ]
}